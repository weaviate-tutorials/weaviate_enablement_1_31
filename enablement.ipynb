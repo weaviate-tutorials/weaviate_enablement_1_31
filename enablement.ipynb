{
 "cells": [
  {
   "cell_type": "markdown",
   "id": "b62153b3",
   "metadata": {},
   "source": [
    "## Weaviate 1.31 Enablement session\n",
    "\n",
    "### Key features\n",
    "\n",
    "- Shard movement between nodes\n",
    "- MUVERA encoding algorithm for multi-vector embeddings\n",
    "- Vectorizer changes\n",
    "- HNSW snapshotting"
   ]
  },
  {
   "cell_type": "markdown",
   "id": "416fe230",
   "metadata": {},
   "source": [
    "### Connect to Weaviate"
   ]
  },
  {
   "cell_type": "code",
   "execution_count": null,
   "id": "669d5ff1",
   "metadata": {},
   "outputs": [],
   "source": [
    "import dotenv\n",
    "\n",
    "dotenv.load_dotenv(verbose=True)"
   ]
  },
  {
   "cell_type": "code",
   "execution_count": null,
   "id": "196c0071",
   "metadata": {},
   "outputs": [],
   "source": [
    "import weaviate\n",
    "import os\n",
    "\n",
    "client = weaviate.connect_to_local(\n",
    "    headers={\n",
    "        \"X-Cohere-API-Key\": os.getenv(\"COHERE_API_KEY\"),\n",
    "    }\n",
    ")"
   ]
  },
  {
   "cell_type": "code",
   "execution_count": null,
   "id": "38a32793",
   "metadata": {},
   "outputs": [],
   "source": [
    "client.get_meta()[\"version\"]"
   ]
  },
  {
   "cell_type": "markdown",
   "id": "04e70217",
   "metadata": {},
   "source": [
    "Check the cluster setup:"
   ]
  },
  {
   "cell_type": "code",
   "execution_count": null,
   "id": "2464bed5",
   "metadata": {},
   "outputs": [],
   "source": [
    "client.cluster.nodes()"
   ]
  },
  {
   "cell_type": "markdown",
   "id": "d8e002d8",
   "metadata": {},
   "source": [
    "Pre-load some data:"
   ]
  },
  {
   "cell_type": "code",
   "execution_count": null,
   "id": "92568425",
   "metadata": {},
   "outputs": [],
   "source": [
    "from weaviate.classes.config import Configure, Property, DataType\n",
    "\n",
    "collection_name = \"TempCollection\"\n",
    "\n",
    "client.collections.delete(collection_name)\n",
    "\n",
    "client.collections.create(\n",
    "    collection_name,\n",
    "    properties=[\n",
    "        Property(name=\"title\", data_type=DataType.TEXT),\n",
    "        Property(name=\"body\", data_type=DataType.TEXT),\n",
    "    ],\n",
    "    vectorizer_config=[\n",
    "        Configure.NamedVectors.text2vec_cohere(\n",
    "            name=\"default\",\n",
    "            source_properties=[\"title\", \"body\"],\n",
    "        ),\n",
    "    ],\n",
    "    replication_config=Configure.replication(factor=2),  # Note - this just a demo - do NOT use a RF of 2 in production - use 3 or above odd number\n",
    "    sharding_config=Configure.sharding(\n",
    "        desired_count=5  # To demonstrate sharding, we set it to an arbitrary high number (for our dataset size, anyway)\n",
    "    )\n",
    ")\n",
    "\n",
    "c = client.collections.get(collection_name)\n",
    "\n",
    "objects = [\n",
    "    {\"title\": \"Howl's Moving Castle\", \"body\": \"A fantasy novel by Diana Wynne Jones.\"},\n",
    "    {\"title\": \"The Hobbit\", \"body\": \"A fantasy novel by J.R.R. Tolkien.\"},\n",
    "    {\"title\": \"The Hitchhiker's Guide to the Galaxy\", \"body\": \"A science fiction novel by Douglas Adams.\"},\n",
    "    {\"title\": \"The Great Gatsby\", \"body\": \"A novel by F. Scott Fitzgerald.\"},\n",
    "    {\"title\": \"1984\", \"body\": \"A dystopian novel by George Orwell.\"},\n",
    "    {\"title\": \"To Kill a Mockingbird\", \"body\": \"A novel by Harper Lee.\"},\n",
    "    {\"title\": \"Pride and Prejudice\", \"body\": \"A novel by Jane Austen.\"},\n",
    "    {\"title\": \"The Catcher in the Rye\", \"body\": \"A novel by J.D. Salinger.\"},\n",
    "    {\"title\": \"The Lord of the Rings\", \"body\": \"A fantasy novel by J.R.R. Tolkien.\"},\n",
    "    {\"title\": \"Brave New World\", \"body\": \"A dystopian novel by Aldous Huxley.\"},\n",
    "    {\"title\": \"Fahrenheit 451\", \"body\": \"A dystopian novel by Ray Bradbury.\"},\n",
    "    {\"title\": \"The Picture of Dorian Gray\", \"body\": \"A novel by Oscar Wilde.\"},\n",
    "]\n",
    "\n",
    "c.data.insert_many(objects)\n",
    "\n",
    "import time\n",
    "\n",
    "start_time = time.time()\n",
    "print(\"Waiting for object count to update...\")\n",
    "\n",
    "while True:\n",
    "    n = client.cluster.nodes(collection=collection_name, output=\"verbose\")[0]\n",
    "    s = n.shards[0]\n",
    "    if s.object_count != 0:\n",
    "        print(f\"On node {n.name} and shard {s.name} - obj count: {s.object_count}\")\n",
    "        break\n",
    "    time.sleep(10)\n",
    "    elapsed_time = time.time() - start_time\n",
    "    print(f\"Elapsed time: {elapsed_time:.1f}s\")\n",
    "\n",
    "finish_time = time.time()\n",
    "print(f\"Time taken for obj count to update: {finish_time - start_time} seconds\")"
   ]
  },
  {
   "cell_type": "code",
   "execution_count": null,
   "id": "26902787",
   "metadata": {},
   "outputs": [],
   "source": [
    "len(c)"
   ]
  },
  {
   "cell_type": "markdown",
   "id": "f6e4de80",
   "metadata": {},
   "source": [
    "## Move shards"
   ]
  },
  {
   "cell_type": "code",
   "execution_count": null,
   "id": "ddf0dd00",
   "metadata": {},
   "outputs": [],
   "source": [
    "from IPython.display import Image, display\n",
    "\n",
    "img_w = 600\n",
    "display(Image('./assets/shards-1.png', width=img_w))"
   ]
  },
  {
   "cell_type": "code",
   "execution_count": null,
   "id": "e15cf31d",
   "metadata": {},
   "outputs": [],
   "source": [
    "display(Image('./assets/shards-2.png', width=img_w))"
   ]
  },
  {
   "cell_type": "code",
   "execution_count": null,
   "id": "cb98da21",
   "metadata": {},
   "outputs": [],
   "source": [
    "display(Image('./assets/shards-3.png', width=img_w))"
   ]
  },
  {
   "cell_type": "code",
   "execution_count": null,
   "id": "bdae24fa",
   "metadata": {},
   "outputs": [],
   "source": [
    "display(Image('./assets/shards-4.png', width=img_w))"
   ]
  },
  {
   "cell_type": "code",
   "execution_count": null,
   "id": "57b92060",
   "metadata": {},
   "outputs": [],
   "source": [
    "nodes_response = client.cluster.nodes(collection=collection_name, output=\"verbose\")\n",
    "\n",
    "for n in nodes_response:\n",
    "    print(f\"\\nNode {n.name} has {len(n.shards)} shards\")\n",
    "    for s in n.shards:\n",
    "        print(f\"Shard {s.name} has {s.object_count} objects from {collection_name}\")"
   ]
  },
  {
   "cell_type": "code",
   "execution_count": null,
   "id": "f1c7e432",
   "metadata": {},
   "outputs": [],
   "source": [
    "n = nodes_response[0]\n",
    "candidate_shard = None\n",
    "for src_shard in n.shards:\n",
    "    node2_shards = [\n",
    "        n2_shard.name for n2_shard in nodes_response[1].shards\n",
    "    ]\n",
    "    if src_shard.name not in node2_shards:\n",
    "        candidate_shard = src_shard\n",
    "        break\n",
    "\n",
    "print(f\"Candidate shard to move: {candidate_shard.name}\")\n",
    "\n",
    "SHARD_ID = candidate_shard.name"
   ]
  },
  {
   "cell_type": "code",
   "execution_count": null,
   "id": "2ddff908",
   "metadata": {},
   "outputs": [],
   "source": [
    "import requests\n",
    "import json\n",
    "\n",
    "# Shard move parameters\n",
    "SOURCE_NODE = \"node1\"\n",
    "DESTINATION_NODE = \"node2\"\n",
    "\n",
    "# Create the request payload\n",
    "payload = {\n",
    "    \"sourceNodeName\": \"node1\",\n",
    "    \"destinationNodeName\": DESTINATION_NODE,\n",
    "    \"collectionId\": collection_name,\n",
    "    \"shardId\": SHARD_ID,\n",
    "    \"transferType\": \"MOVE\"  # Use \"MOVE\" to relocate the shard, or \"COPY\" to replicate it\n",
    "}\n",
    "\n",
    "# Set up the headers\n",
    "headers = {\n",
    "    \"Content-Type\": \"application/json\"\n",
    "}\n",
    "\n",
    "# Make the API request\n",
    "response = requests.post(\n",
    "    f\"http://localhost:8080/v1/replication/replicate\",\n",
    "    headers=headers,\n",
    "    data=json.dumps(payload)\n",
    ")\n",
    "\n",
    "operation_id = response.json().get(\"id\")\n",
    "\n",
    "# Check for the status of the operation\n",
    "response = requests.get(\n",
    "    f\"http://localhost:8080/v1/replication/replicate/{operation_id}\",\n",
    "    headers=headers,\n",
    ")\n",
    "\n",
    "print(response.json())\n",
    "print(\"Shard move operation status:\")\n",
    "print(f'Status: {response.json()[\"status\"][\"state\"]}')"
   ]
  },
  {
   "cell_type": "code",
   "execution_count": null,
   "id": "ef33ebaf",
   "metadata": {},
   "outputs": [],
   "source": [
    "display(Image('./assets/shards-5.png', width=img_w))"
   ]
  },
  {
   "cell_type": "markdown",
   "id": "cee7a038",
   "metadata": {},
   "source": [
    "Check the status to see if it's finished:"
   ]
  },
  {
   "cell_type": "code",
   "execution_count": null,
   "id": "7f13e59d",
   "metadata": {},
   "outputs": [],
   "source": [
    "# Check for the status of the operation\n",
    "response = requests.get(\n",
    "    f\"http://localhost:8080/v1/replication/replicate/{operation_id}\",\n",
    "    headers=headers,\n",
    ")\n",
    "\n",
    "print(response.json())\n",
    "print(\"Shard move operation status:\")\n",
    "print(f'Status: {response.json()[\"status\"][\"state\"]}')"
   ]
  },
  {
   "cell_type": "code",
   "execution_count": null,
   "id": "89906864",
   "metadata": {},
   "outputs": [],
   "source": [
    "for n in client.cluster.nodes(collection=collection_name, output=\"verbose\"):\n",
    "    print(f\"\\nNode {n.name} has {len(n.shards)} shards\")\n",
    "    for s in n.shards:\n",
    "        print(f\"Shard {s.name} has {s.object_count} objects from {collection_name}\")"
   ]
  },
  {
   "cell_type": "markdown",
   "id": "9a1c9459",
   "metadata": {},
   "source": [
    "## MUVERA"
   ]
  },
  {
   "cell_type": "markdown",
   "id": "43c2ccfb",
   "metadata": {},
   "source": [
    "Note - check that this is the branch being used:\n",
    "\n",
    "`uv pip install git+https://github.com/weaviate/weaviate-python-client.git@dev/1.31`"
   ]
  },
  {
   "cell_type": "code",
   "execution_count": null,
   "id": "d9a2b862",
   "metadata": {},
   "outputs": [],
   "source": [
    "from IPython.display import Image, display\n",
    "\n",
    "img_w = 800\n",
    "display(Image('./assets/mv_explained1.png', width=img_w))"
   ]
  },
  {
   "cell_type": "code",
   "execution_count": null,
   "id": "fabc4c33",
   "metadata": {},
   "outputs": [],
   "source": [
    "from IPython.display import Image, display\n",
    "\n",
    "img_w = 800\n",
    "display(Image('./assets/mv_explained2.png', width=img_w))"
   ]
  },
  {
   "cell_type": "code",
   "execution_count": null,
   "id": "044b1e8b",
   "metadata": {},
   "outputs": [],
   "source": [
    "from weaviate.classes.config import Configure, Property, DataType\n",
    "\n",
    "collection_name = \"TempCollection\"\n",
    "\n",
    "client.collections.delete(collection_name)\n",
    "\n",
    "client.collections.create(\n",
    "    collection_name,\n",
    "    properties=[\n",
    "        Property(name=\"title\", data_type=DataType.TEXT),\n",
    "        Property(name=\"body\", data_type=DataType.TEXT),\n",
    "    ],\n",
    "    vectorizer_config=[\n",
    "        Configure.NamedVectors.none(\n",
    "            name=\"custom_mv\",\n",
    "            vector_index_config=Configure.VectorIndex.hnsw(\n",
    "                multi_vector=Configure.VectorIndex.MultiVector.multi_vector()\n",
    "            )\n",
    "        ),\n",
    "    ],\n",
    "    replication_config=Configure.replication(factor=3)\n",
    ")"
   ]
  },
  {
   "cell_type": "code",
   "execution_count": null,
   "id": "5a0fb2f9",
   "metadata": {},
   "outputs": [],
   "source": [
    "objects = [\n",
    "    {\"title\": \"Howl's Moving Castle\", \"body\": \"A fantasy novel by Diana Wynne Jones.\"},\n",
    "    {\"title\": \"The Hobbit\", \"body\": \"A fantasy novel by J.R.R. Tolkien.\"},\n",
    "    {\"title\": \"The Hitchhiker's Guide to the Galaxy\", \"body\": \"A science fiction novel by Douglas Adams.\"},\n",
    "]\n",
    "\n",
    "vectors = [\n",
    "    [[0.1, 0.2, 0.3, 0.4, 0.5]] * 3,\n",
    "    [[0.6, 0.7, 0.8, 0.9, 1.0]] * 4,\n",
    "    [[1.1, 1.2, 1.3, 1.4, 1.5]] * 5,\n",
    "]\n",
    "\n",
    "vectors[0]"
   ]
  },
  {
   "cell_type": "code",
   "execution_count": null,
   "id": "5b46eb4e",
   "metadata": {},
   "outputs": [],
   "source": [
    "c = client.collections.get(collection_name)\n",
    "\n",
    "with c.batch.fixed_size(200) as batch:\n",
    "    for i, obj in enumerate(objects):\n",
    "        vector = vectors[i]\n",
    "        batch.add_object(\n",
    "            properties=obj,\n",
    "            vector={\"custom_mv\": vector}\n",
    "        )"
   ]
  },
  {
   "cell_type": "markdown",
   "id": "bf4fc035",
   "metadata": {},
   "source": [
    "## Vectorizer changes"
   ]
  },
  {
   "cell_type": "markdown",
   "id": "340e3d51",
   "metadata": {},
   "source": [
    "Note - check that this is the branch being used:\n",
    "\n",
    "`uv pip install git+https://github.com/weaviate/weaviate-python-client.git@1.31/support-adding-vectors`"
   ]
  },
  {
   "cell_type": "code",
   "execution_count": null,
   "id": "d81b769a",
   "metadata": {},
   "outputs": [],
   "source": [
    "from weaviate.classes.config import Configure, Property, DataType\n",
    "\n",
    "collection_name = \"TempCollection\"\n",
    "\n",
    "client.collections.delete(collection_name)\n",
    "\n",
    "client.collections.create(\n",
    "    collection_name,\n",
    "    properties=[\n",
    "        Property(name=\"title\", data_type=DataType.TEXT),\n",
    "        Property(name=\"body\", data_type=DataType.TEXT),\n",
    "    ],\n",
    "    vectorizer_config=[\n",
    "        Configure.NamedVectors.text2vec_cohere(\n",
    "            name=\"default\",\n",
    "            source_properties=[\"title\", \"body\"],\n",
    "        ),\n",
    "        Configure.NamedVectors.text2vec_cohere(\n",
    "            name=\"new_title\",\n",
    "            source_properties=[\"title\"],\n",
    "        )\n",
    "    ],\n",
    "    # vectorizer_config=Configure.Vectorizer.text2vec_cohere(),\n",
    ")"
   ]
  },
  {
   "cell_type": "code",
   "execution_count": null,
   "id": "00cd610c",
   "metadata": {},
   "outputs": [],
   "source": [
    "c = client.collections.get(collection_name)\n",
    "\n",
    "cc = c.config.get().vector_config.keys()\n",
    "\n",
    "print(cc)"
   ]
  },
  {
   "cell_type": "code",
   "execution_count": null,
   "id": "d97eadb7",
   "metadata": {},
   "outputs": [],
   "source": [
    "c.config.add_vector(\n",
    "    vector_config=Configure.NamedVectors.text2vec_cohere(\n",
    "        name=\"body_only\",\n",
    "        source_properties=[\"body\"],\n",
    "    )\n",
    ")"
   ]
  },
  {
   "cell_type": "code",
   "execution_count": null,
   "id": "d4793eaa",
   "metadata": {},
   "outputs": [],
   "source": [
    "c = client.collections.get(collection_name)\n",
    "\n",
    "cc = c.config.get().vector_config.keys()\n",
    "\n",
    "print(cc)"
   ]
  },
  {
   "cell_type": "code",
   "execution_count": null,
   "id": "a7952df1",
   "metadata": {},
   "outputs": [],
   "source": []
  }
 ],
 "metadata": {
  "kernelspec": {
   "display_name": ".venv",
   "language": "python",
   "name": "python3"
  },
  "language_info": {
   "codemirror_mode": {
    "name": "ipython",
    "version": 3
   },
   "file_extension": ".py",
   "mimetype": "text/x-python",
   "name": "python",
   "nbconvert_exporter": "python",
   "pygments_lexer": "ipython3",
   "version": "3.11.12"
  }
 },
 "nbformat": 4,
 "nbformat_minor": 5
}
