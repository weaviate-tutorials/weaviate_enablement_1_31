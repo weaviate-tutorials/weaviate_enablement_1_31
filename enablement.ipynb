{
 "cells": [
  {
   "cell_type": "code",
   "execution_count": 1,
   "id": "669d5ff1",
   "metadata": {},
   "outputs": [
    {
     "data": {
      "text/plain": [
       "True"
      ]
     },
     "execution_count": 1,
     "metadata": {},
     "output_type": "execute_result"
    }
   ],
   "source": [
    "import dotenv\n",
    "\n",
    "dotenv.load_dotenv()"
   ]
  },
  {
   "cell_type": "code",
   "execution_count": 2,
   "id": "196c0071",
   "metadata": {},
   "outputs": [],
   "source": [
    "import weaviate\n",
    "import os\n",
    "\n",
    "client = weaviate.connect_to_local(\n",
    "    headers={\n",
    "        \"X-Cohere-API-Key\": os.getenv(\"COHERE_API_KEY\"),\n",
    "    }\n",
    ")"
   ]
  },
  {
   "cell_type": "code",
   "execution_count": 3,
   "id": "38a32793",
   "metadata": {},
   "outputs": [
    {
     "data": {
      "text/plain": [
       "'1.31.0-rc.0'"
      ]
     },
     "execution_count": 3,
     "metadata": {},
     "output_type": "execute_result"
    }
   ],
   "source": [
    "client.get_meta()[\"version\"]"
   ]
  },
  {
   "cell_type": "code",
   "execution_count": 4,
   "id": "2464bed5",
   "metadata": {},
   "outputs": [
    {
     "data": {
      "text/plain": [
       "[Node(git_hash='a6ede0c', name='node1', shards=None, stats=None, status='HEALTHY', version='1.31.0-rc.0'),\n",
       " Node(git_hash='a6ede0c', name='node2', shards=None, stats=None, status='HEALTHY', version='1.31.0-rc.0'),\n",
       " Node(git_hash='a6ede0c', name='node3', shards=None, stats=None, status='HEALTHY', version='1.31.0-rc.0')]"
      ]
     },
     "execution_count": 4,
     "metadata": {},
     "output_type": "execute_result"
    }
   ],
   "source": [
    "client.cluster.nodes()"
   ]
  },
  {
   "cell_type": "markdown",
   "id": "f6e4de80",
   "metadata": {},
   "source": [
    "## Move shards"
   ]
  },
  {
   "cell_type": "code",
   "execution_count": null,
   "id": "92568425",
   "metadata": {},
   "outputs": [
    {
     "name": "stderr",
     "output_type": "stream",
     "text": [
      "/workspaces/weaviate_enablement_1_31/.venv/lib/python3.11/site-packages/weaviate/collections/classes/config.py:1950: PydanticDeprecatedSince211: Accessing the 'model_fields' attribute on the instance is deprecated. Instead, you should access this attribute from the model class. Deprecated in Pydantic V2.11 to be removed in V3.0.\n",
      "  for cls_field in self.model_fields:\n"
     ]
    },
    {
     "data": {
      "text/plain": [
       "BatchObjectReturn(_all_responses=[UUID('e5290cad-3537-4f5d-9645-1f61f72d7fc1'), UUID('e0738641-0135-44b9-a385-aecba1b616f7'), UUID('9c8a19c5-a1e7-4c4b-bce7-0ab2ba0c9c3c'), UUID('19ed3ff6-cf83-481d-99b3-b741f80d107b'), UUID('955b18b7-87be-4a84-b528-1881d16bd61a'), UUID('34741b84-be2f-4078-a1a7-0c31cdd05836'), UUID('27249845-f99e-4fcf-be36-ae9d68b08a3d'), UUID('43406043-99fd-45c8-943b-34c85f5c087c'), UUID('ed6874ea-dfb1-4d42-8195-b7ef7e496d29'), UUID('4e23e469-abbd-40f6-b193-90ade446a9d8'), UUID('acda7b25-3a68-4ef5-8ca7-5291832d0360'), UUID('67f1d224-2d10-43f1-b672-5fb62b878d76')], elapsed_seconds=0.4034616947174072, errors={}, uuids={0: UUID('e5290cad-3537-4f5d-9645-1f61f72d7fc1'), 1: UUID('e0738641-0135-44b9-a385-aecba1b616f7'), 2: UUID('9c8a19c5-a1e7-4c4b-bce7-0ab2ba0c9c3c'), 3: UUID('19ed3ff6-cf83-481d-99b3-b741f80d107b'), 4: UUID('955b18b7-87be-4a84-b528-1881d16bd61a'), 5: UUID('34741b84-be2f-4078-a1a7-0c31cdd05836'), 6: UUID('27249845-f99e-4fcf-be36-ae9d68b08a3d'), 7: UUID('43406043-99fd-45c8-943b-34c85f5c087c'), 8: UUID('ed6874ea-dfb1-4d42-8195-b7ef7e496d29'), 9: UUID('4e23e469-abbd-40f6-b193-90ade446a9d8'), 10: UUID('acda7b25-3a68-4ef5-8ca7-5291832d0360'), 11: UUID('67f1d224-2d10-43f1-b672-5fb62b878d76')}, has_errors=False)"
      ]
     },
     "execution_count": 5,
     "metadata": {},
     "output_type": "execute_result"
    }
   ],
   "source": [
    "from weaviate.classes.config import Configure, Property, DataType\n",
    "\n",
    "collection_name = \"TempCollection\"\n",
    "\n",
    "client.collections.delete(collection_name)\n",
    "\n",
    "client.collections.create(\n",
    "    collection_name,\n",
    "    properties=[\n",
    "        Property(name=\"title\", data_type=DataType.TEXT),\n",
    "        Property(name=\"body\", data_type=DataType.TEXT),\n",
    "    ],\n",
    "    vectorizer_config=[\n",
    "        Configure.NamedVectors.text2vec_cohere(\n",
    "            name=\"default\",\n",
    "            source_properties=[\"title\", \"body\"],\n",
    "        ),\n",
    "    ],\n",
    "    replication_config=Configure.replication(factor=2),  # Note - this just a demo - do NOT use a RF of 2 in production - use 3 or above odd number\n",
    "    sharding_config=Configure.sharding(\n",
    "        desired_count=5  # To demonstrate sharding, we set it to an arbitrary high number (for our dataset size, anyway)\n",
    "    )\n",
    ")"
   ]
  },
  {
   "cell_type": "code",
   "execution_count": null,
   "id": "0b836d42",
   "metadata": {},
   "outputs": [],
   "source": [
    "c = client.collections.get(collection_name)\n",
    "\n",
    "objects = [\n",
    "    {\"title\": \"Howl's Moving Castle\", \"body\": \"A fantasy novel by Diana Wynne Jones.\"},\n",
    "    {\"title\": \"The Hobbit\", \"body\": \"A fantasy novel by J.R.R. Tolkien.\"},\n",
    "    {\"title\": \"The Hitchhiker's Guide to the Galaxy\", \"body\": \"A science fiction novel by Douglas Adams.\"},\n",
    "    {\"title\": \"The Great Gatsby\", \"body\": \"A novel by F. Scott Fitzgerald.\"},\n",
    "    {\"title\": \"1984\", \"body\": \"A dystopian novel by George Orwell.\"},\n",
    "    {\"title\": \"To Kill a Mockingbird\", \"body\": \"A novel by Harper Lee.\"},\n",
    "    {\"title\": \"Pride and Prejudice\", \"body\": \"A novel by Jane Austen.\"},\n",
    "    {\"title\": \"The Catcher in the Rye\", \"body\": \"A novel by J.D. Salinger.\"},\n",
    "    {\"title\": \"The Lord of the Rings\", \"body\": \"A fantasy novel by J.R.R. Tolkien.\"},\n",
    "    {\"title\": \"Brave New World\", \"body\": \"A dystopian novel by Aldous Huxley.\"},\n",
    "    {\"title\": \"Fahrenheit 451\", \"body\": \"A dystopian novel by Ray Bradbury.\"},\n",
    "    {\"title\": \"The Picture of Dorian Gray\", \"body\": \"A novel by Oscar Wilde.\"},\n",
    "]\n",
    "\n",
    "c.data.insert_many(objects)"
   ]
  },
  {
   "cell_type": "code",
   "execution_count": 6,
   "id": "26902787",
   "metadata": {},
   "outputs": [
    {
     "data": {
      "text/plain": [
       "12"
      ]
     },
     "execution_count": 6,
     "metadata": {},
     "output_type": "execute_result"
    }
   ],
   "source": [
    "len(c)"
   ]
  },
  {
   "cell_type": "markdown",
   "id": "09e645a2",
   "metadata": {},
   "source": [
    "![Shards - explained: 1](./assets/shards-1.png)"
   ]
  },
  {
   "cell_type": "markdown",
   "id": "21b04bab",
   "metadata": {},
   "source": [
    "![Shards - explained: 2](./assets/shards-2.png)"
   ]
  },
  {
   "cell_type": "markdown",
   "id": "b0d15e57",
   "metadata": {},
   "source": [
    "![Shards - explained: 3](./assets/shards-3.png)"
   ]
  },
  {
   "cell_type": "markdown",
   "id": "45c1f0e1",
   "metadata": {},
   "source": [
    "![Shards - explained: 4](./assets/shards-4.png)"
   ]
  },
  {
   "cell_type": "code",
   "execution_count": 9,
   "id": "57b92060",
   "metadata": {},
   "outputs": [
    {
     "name": "stdout",
     "output_type": "stream",
     "text": [
      "\n",
      "Node node1 has 3 shards\n",
      "Shard 4QoGPeDZF0ij has 3 objects from TempCollection\n",
      "Shard O36bikitjOSA has 3 objects from TempCollection\n",
      "Shard DBg0mXKtcZZh has 2 objects from TempCollection\n",
      "\n",
      "Node node2 has 4 shards\n",
      "Shard wtEqaeXumWZ5 has 3 objects from TempCollection\n",
      "Shard W5M7LdGEyzAq has 1 objects from TempCollection\n",
      "Shard O36bikitjOSA has 3 objects from TempCollection\n",
      "Shard DBg0mXKtcZZh has 2 objects from TempCollection\n",
      "\n",
      "Node node3 has 3 shards\n",
      "Shard 4QoGPeDZF0ij has 3 objects from TempCollection\n",
      "Shard W5M7LdGEyzAq has 1 objects from TempCollection\n",
      "Shard wtEqaeXumWZ5 has 3 objects from TempCollection\n"
     ]
    }
   ],
   "source": [
    "for n in client.cluster.nodes(collection=collection_name, output=\"verbose\"):\n",
    "    print(f\"\\nNode {n.name} has {len(n.shards)} shards\")\n",
    "    for s in n.shards:\n",
    "        print(f\"Shard {s.name} has {s.object_count} objects from {collection_name}\")"
   ]
  },
  {
   "cell_type": "code",
   "execution_count": null,
   "id": "2ddff908",
   "metadata": {},
   "outputs": [],
   "source": [
    "import requests\n",
    "import json\n",
    "\n",
    "# Shard move parameters\n",
    "SOURCE_NODE = \"node1\"\n",
    "DESTINATION_NODE = \"node2\"\n",
    "SHARD_ID = \"ix6FD7RCVa5o\"\n",
    "\n",
    "# Create the request payload\n",
    "payload = {\n",
    "    \"sourceNodeName\": \"node1\",\n",
    "    \"destinationNodeName\": DESTINATION_NODE,\n",
    "    \"collectionId\": collection_name,\n",
    "    \"shardId\": SHARD_ID,\n",
    "    \"transferType\": \"MOVE\"  # Use \"MOVE\" to relocate the shard, or \"COPY\" to replicate it\n",
    "}\n",
    "\n",
    "# Set up the headers\n",
    "headers = {\n",
    "    \"Content-Type\": \"application/json\"\n",
    "}\n",
    "# Make the API request\n",
    "response = requests.post(\n",
    "    f\"http://localhost:8080/v1/replication/replicate\",\n",
    "    headers=headers,\n",
    "    data=json.dumps(payload)\n",
    ")\n",
    "\n",
    "# Check the response\n",
    "if response.status_code == 200:\n",
    "    operation_id = response.json().get(\"id\")\n",
    "    print(f\"Shard move operation started successfully. Operation ID: {operation_id}\")\n",
    "\n",
    "    # Optional: You could use the operation ID to poll for status\n",
    "    # status_url = f\"{WEAVIATE_URL}/v1/replication/replicate/{operation_id}\"\n",
    "else:\n",
    "    print(f\"Error: {response.status_code}\")\n",
    "    print(response.text)"
   ]
  },
  {
   "cell_type": "code",
   "execution_count": null,
   "id": "10f7330d",
   "metadata": {},
   "outputs": [],
   "source": [
    "import requests\n",
    "\n",
    "# Set up the headers\n",
    "headers = {\n",
    "    \"Content-Type\": \"application/json\"\n",
    "}\n",
    "\n",
    "# Make the API request\n",
    "response = requests.get(\n",
    "    f\"http://localhost:8080/v1/replication/replicate/{operation_id}\",\n",
    "    headers=headers,\n",
    ")\n",
    "\n",
    "# Check the response\n",
    "if response.status_code == 200:\n",
    "    print(\"Shard move operation status:\")\n",
    "    print(response.json())\n",
    "else:\n",
    "    print(f\"Error: {response.status_code}\")\n",
    "    print(response.text)"
   ]
  },
  {
   "cell_type": "code",
   "execution_count": null,
   "id": "89906864",
   "metadata": {},
   "outputs": [],
   "source": [
    "for n in client.cluster.nodes(collection=collection_name, output=\"verbose\"):\n",
    "    print(f\"\\nNode {n.name} has {len(n.shards)} shards\")\n",
    "    for s in n.shards:\n",
    "        print(f\"Shard {s.name} has {s.object_count} objects from {collection_name}\")"
   ]
  },
  {
   "cell_type": "markdown",
   "id": "9a1c9459",
   "metadata": {},
   "source": [
    "## MUVERA"
   ]
  },
  {
   "cell_type": "markdown",
   "id": "43c2ccfb",
   "metadata": {},
   "source": [
    "Note - check that this is the branch being used:\n",
    "\n",
    "`uv pip install git+https://github.com/weaviate/weaviate-python-client.git@dev/1.31`"
   ]
  },
  {
   "cell_type": "code",
   "execution_count": 6,
   "id": "044b1e8b",
   "metadata": {},
   "outputs": [
    {
     "data": {
      "text/plain": [
       "<weaviate.collections.collection.sync.Collection at 0xffff79854750>"
      ]
     },
     "execution_count": 6,
     "metadata": {},
     "output_type": "execute_result"
    }
   ],
   "source": [
    "from weaviate.classes.config import Configure, Property, DataType\n",
    "\n",
    "collection_name = \"TempCollection\"\n",
    "\n",
    "client.collections.delete(collection_name)\n",
    "\n",
    "client.collections.create(\n",
    "    collection_name,\n",
    "    properties=[\n",
    "        Property(name=\"title\", data_type=DataType.TEXT),\n",
    "        Property(name=\"body\", data_type=DataType.TEXT),\n",
    "    ],\n",
    "    vectorizer_config=[\n",
    "        Configure.NamedVectors.none(\n",
    "            name=\"custom_mv\",\n",
    "            vector_index_config=Configure.VectorIndex.hnsw(\n",
    "                multi_vector=Configure.VectorIndex.MultiVector.multi_vector(\n",
    "                    encoding=Configure.VectorIndex.MultiVector.Encoding.muvera()\n",
    "                )\n",
    "            )\n",
    "        ),\n",
    "    ],\n",
    "    replication_config=Configure.replication(factor=3)\n",
    ")"
   ]
  },
  {
   "cell_type": "code",
   "execution_count": 8,
   "id": "5a0fb2f9",
   "metadata": {},
   "outputs": [
    {
     "data": {
      "text/plain": [
       "[[0.1, 0.2, 0.3, 0.4, 0.5],\n",
       " [0.1, 0.2, 0.3, 0.4, 0.5],\n",
       " [0.1, 0.2, 0.3, 0.4, 0.5]]"
      ]
     },
     "execution_count": 8,
     "metadata": {},
     "output_type": "execute_result"
    }
   ],
   "source": [
    "objects = [\n",
    "    {\"title\": \"Howl's Moving Castle\", \"body\": \"A fantasy novel by Diana Wynne Jones.\"},\n",
    "    {\"title\": \"The Hobbit\", \"body\": \"A fantasy novel by J.R.R. Tolkien.\"},\n",
    "    {\"title\": \"The Hitchhiker's Guide to the Galaxy\", \"body\": \"A science fiction novel by Douglas Adams.\"},\n",
    "]\n",
    "\n",
    "vectors = [\n",
    "    [[0.1, 0.2, 0.3, 0.4, 0.5]] * 3,\n",
    "    [[0.6, 0.7, 0.8, 0.9, 1.0]] * 4,\n",
    "    [[1.1, 1.2, 1.3, 1.4, 1.5]] * 5,\n",
    "]\n",
    "\n",
    "vectors[0]"
   ]
  },
  {
   "cell_type": "code",
   "execution_count": 10,
   "id": "5b46eb4e",
   "metadata": {},
   "outputs": [],
   "source": [
    "c = client.collections.get(collection_name)\n",
    "\n",
    "with c.batch.fixed_size(200) as batch:\n",
    "    for i, obj in enumerate(objects):\n",
    "        vector = vectors[i]\n",
    "        batch.add_object(\n",
    "            properties=obj,\n",
    "            vector={\"custom_mv\": vector}\n",
    "        )"
   ]
  },
  {
   "cell_type": "code",
   "execution_count": 11,
   "id": "54796e0b",
   "metadata": {},
   "outputs": [
    {
     "data": {
      "text/plain": [
       "3"
      ]
     },
     "execution_count": 11,
     "metadata": {},
     "output_type": "execute_result"
    }
   ],
   "source": [
    "len(c)"
   ]
  },
  {
   "cell_type": "markdown",
   "id": "bf4fc035",
   "metadata": {},
   "source": [
    "## Vectorizer changes"
   ]
  },
  {
   "cell_type": "markdown",
   "id": "340e3d51",
   "metadata": {},
   "source": [
    "Note - check that this is the branch being used:\n",
    "\n",
    "`uv pip install git+https://github.com/weaviate/weaviate-python-client.git1.31/support-adding-vectors`"
   ]
  },
  {
   "cell_type": "code",
   "execution_count": null,
   "id": "d81b769a",
   "metadata": {},
   "outputs": [],
   "source": [
    "from weaviate.classes.config import Configure, Property, DataType\n",
    "\n",
    "collection_name = \"TempCollection\"\n",
    "\n",
    "client.collections.delete(collection_name)\n",
    "\n",
    "client.collections.create(\n",
    "    collection_name,\n",
    "    properties=[\n",
    "        Property(name=\"title\", data_type=DataType.TEXT),\n",
    "        Property(name=\"body\", data_type=DataType.TEXT),\n",
    "    ],\n",
    "    vectorizer_config=[\n",
    "        Configure.NamedVectors.text2vec_cohere(\n",
    "            name=\"default\",\n",
    "            source_properties=[\"title\", \"body\"],\n",
    "        ),\n",
    "        Configure.NamedVectors.text2vec_cohere(\n",
    "            name=\"new_title\",\n",
    "            source_properties=[\"title\"],\n",
    "        )\n",
    "    ],\n",
    "    # vectorizer_config=Configure.Vectorizer.text2vec_cohere(),\n",
    ")"
   ]
  },
  {
   "cell_type": "code",
   "execution_count": null,
   "id": "00cd610c",
   "metadata": {},
   "outputs": [],
   "source": [
    "c = client.collections.get(collection_name)\n",
    "\n",
    "cc = c.config.get().vector_config.keys()\n",
    "# cc = c.config.get().vectorizer_config\n",
    "\n",
    "print(cc)"
   ]
  },
  {
   "cell_type": "code",
   "execution_count": null,
   "id": "d97eadb7",
   "metadata": {},
   "outputs": [],
   "source": [
    "c.config.add_vector(\n",
    "    vector_config=Configure.NamedVectors.text2vec_cohere(\n",
    "        name=\"body_only\",\n",
    "        source_properties=[\"body\"],\n",
    "    )\n",
    ")"
   ]
  }
 ],
 "metadata": {
  "kernelspec": {
   "display_name": ".venv",
   "language": "python",
   "name": "python3"
  },
  "language_info": {
   "codemirror_mode": {
    "name": "ipython",
    "version": 3
   },
   "file_extension": ".py",
   "mimetype": "text/x-python",
   "name": "python",
   "nbconvert_exporter": "python",
   "pygments_lexer": "ipython3",
   "version": "3.11.12"
  }
 },
 "nbformat": 4,
 "nbformat_minor": 5
}
