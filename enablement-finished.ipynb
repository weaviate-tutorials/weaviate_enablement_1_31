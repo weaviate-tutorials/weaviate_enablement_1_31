{
 "cells": [
  {
   "cell_type": "markdown",
   "id": "b62153b3",
   "metadata": {},
   "source": [
    "## Weaviate 1.31 Enablement session"
   ]
  },
  {
   "cell_type": "markdown",
   "id": "416fe230",
   "metadata": {},
   "source": [
    "### Prep"
   ]
  },
  {
   "cell_type": "code",
   "execution_count": null,
   "id": "84f81162",
   "metadata": {},
   "outputs": [],
   "source": [
    "from helpers import get_model_and_processor\n",
    "import dotenv\n",
    "\n",
    "dotenv.load_dotenv(verbose=True)\n",
    "model, processor = get_model_and_processor()"
   ]
  },
  {
   "cell_type": "markdown",
   "id": "1c81eb01",
   "metadata": {},
   "source": [
    "\n",
    "### Key features\n",
    "\n",
    "- MUVERA encoding algorithm for multi-vector embeddings\n",
    "    - Efficiently use state-of-the-art multi-vector models\n",
    "- Vectorizer changes\n",
    "    - Adapt to changing needs by adding new object vectors as needed\n",
    "- Shard movement between nodes (experimental)\n",
    "    - Easier scaling & adaptability in multi-node clusters\n",
    "- HNSW snapshotting\n",
    "    - Faster bootup - big bonus for big datasets\n"
   ]
  },
  {
   "cell_type": "code",
   "execution_count": null,
   "id": "196c0071",
   "metadata": {},
   "outputs": [],
   "source": [
    "import weaviate\n",
    "import os\n",
    "\n",
    "client = weaviate.connect_to_local(\n",
    "    headers={\n",
    "        \"X-Cohere-Api-Key\": os.getenv(\"COHERE_API_KEY\"),\n",
    "        \"X-JinaAI-Api-Key\": os.getenv(\"JINAAI_API_KEY\")\n",
    "    }\n",
    ")"
   ]
  },
  {
   "cell_type": "code",
   "execution_count": null,
   "id": "38a32793",
   "metadata": {},
   "outputs": [],
   "source": [
    "client.get_meta()[\"version\"]"
   ]
  },
  {
   "cell_type": "markdown",
   "id": "04e70217",
   "metadata": {},
   "source": [
    "Check the cluster setup:"
   ]
  },
  {
   "cell_type": "code",
   "execution_count": null,
   "id": "2464bed5",
   "metadata": {},
   "outputs": [],
   "source": [
    "client.cluster.nodes()"
   ]
  },
  {
   "cell_type": "markdown",
   "id": "9a1c9459",
   "metadata": {},
   "source": [
    "## MUVERA"
   ]
  },
  {
   "cell_type": "markdown",
   "id": "4e34396a",
   "metadata": {},
   "source": [
    "### Reminder re: multi-vector embeddings"
   ]
  },
  {
   "cell_type": "code",
   "execution_count": null,
   "id": "8f76057a",
   "metadata": {},
   "outputs": [],
   "source": [
    "from helpers import show_local_imgs\n",
    "from pathlib import Path\n",
    "\n",
    "paths = sorted(list(Path(\"data/slides/imgs\").glob(\"202504_roadshow_mm_talk_*.png\")))\n",
    "\n",
    "show_local_imgs([paths[12], paths[22], paths[32], paths[55]])"
   ]
  },
  {
   "cell_type": "markdown",
   "id": "198935c5",
   "metadata": {},
   "source": [
    "> ### 🤔 Can I search these as images ⬆️"
   ]
  },
  {
   "cell_type": "code",
   "execution_count": null,
   "id": "b2f3a9fc",
   "metadata": {},
   "outputs": [],
   "source": [
    "from weaviate.classes.config import Configure, Property, DataType, Tokenization\n",
    "\n",
    "collection_name = \"TempCollection\"\n",
    "\n",
    "client.collections.delete(collection_name)\n",
    "\n",
    "client.collections.create(\n",
    "    collection_name,\n",
    "    properties=[\n",
    "        Property(name=\"text\", data_type=DataType.TEXT),\n",
    "        Property(name=\"image\", data_type=DataType.BLOB),\n",
    "        Property(name=\"filepath\", data_type=DataType.TEXT, tokenization=Tokenization.FIELD),\n",
    "    ],\n",
    "    vectorizer_config=[\n",
    "        Configure.NamedVectors.none(\n",
    "            name=\"colpali\",  # colpali_v1_3 vector\n",
    "            vector_index_config=Configure.VectorIndex.hnsw(\n",
    "                multi_vector=Configure.VectorIndex.MultiVector.multi_vector()\n",
    "            )\n",
    "        ),\n",
    "    ],\n",
    "    replication_config=Configure.replication(factor=3)\n",
    ")"
   ]
  },
  {
   "cell_type": "code",
   "execution_count": null,
   "id": "10120d89",
   "metadata": {},
   "outputs": [],
   "source": [
    "from pathlib import Path\n",
    "import base64\n",
    "import numpy as np\n",
    "\n",
    "imgs_dir = Path(\"data/slides/imgs\")\n",
    "embs_dir = Path(\"data/slides/embeddings\")\n",
    "\n",
    "embeddings_file = embs_dir / \"202504_roadshow_mm_talk_embeddings.npz\"\n",
    "embeddings = np.load(embeddings_file)"
   ]
  },
  {
   "cell_type": "code",
   "execution_count": null,
   "id": "76c9d32d",
   "metadata": {},
   "outputs": [],
   "source": [
    "from tqdm import tqdm\n",
    "\n",
    "collection = client.collections.get(collection_name)\n",
    "\n",
    "with collection.batch.fixed_size(20) as batch:\n",
    "    for i, embedding in tqdm(enumerate(embeddings[\"embeddings\"])):\n",
    "        filename = embeddings[\"filepaths\"][i].split(\"/\")[-1]\n",
    "        img_path = imgs_dir/filename\n",
    "        batch.add_object(\n",
    "            properties={\n",
    "                \"filepath\": str(img_path),\n",
    "                \"image\": base64.b64encode(img_path.read_bytes()).decode(\"utf-8\"),\n",
    "            },\n",
    "            vector={\n",
    "                \"colpali\": embedding\n",
    "            }\n",
    "        )\n",
    "\n",
    "if collection.batch.failed_objects:\n",
    "    print(collection.batch.failed_objects[0].message)\n",
    "\n",
    "print(len(collection))"
   ]
  },
  {
   "cell_type": "code",
   "execution_count": null,
   "id": "f079c77a",
   "metadata": {},
   "outputs": [],
   "source": [
    "from helpers import show_img_results, text_to_colpali\n",
    "\n",
    "# Using a pre-defined function for generating ColPali query\n",
    "query_embeddings = text_to_colpali([\"how rag works\"], model, processor)\n",
    "\n",
    "r = collection.query.near_vector(\n",
    "    near_vector=query_embeddings[0],\n",
    "    limit=2\n",
    ")\n",
    "\n",
    "show_img_results(r)"
   ]
  },
  {
   "cell_type": "markdown",
   "id": "87e00459",
   "metadata": {},
   "source": [
    "### How does this work?"
   ]
  },
  {
   "cell_type": "code",
   "execution_count": null,
   "id": "a4cf1cba",
   "metadata": {},
   "outputs": [],
   "source": [
    "from IPython.display import Image, display\n",
    "\n",
    "img_w = 800\n",
    "display(Image('./assets/mv_explained1.png', width=img_w))"
   ]
  },
  {
   "cell_type": "code",
   "execution_count": null,
   "id": "0a05e122",
   "metadata": {},
   "outputs": [],
   "source": [
    "from IPython.display import Image, display\n",
    "\n",
    "img_w = 800\n",
    "display(Image('./assets/mv_explained2.png', width=img_w))"
   ]
  },
  {
   "cell_type": "code",
   "execution_count": null,
   "id": "486e6dd3",
   "metadata": {},
   "outputs": [],
   "source": [
    "from IPython.display import Image, display\n",
    "\n",
    "img_w = 800\n",
    "display(Image('data/slides/imgs/202504_roadshow_mm_talk_55_of_60.png', width=img_w))"
   ]
  },
  {
   "cell_type": "markdown",
   "id": "c8578379",
   "metadata": {},
   "source": [
    "### One small (big) challenge"
   ]
  },
  {
   "cell_type": "code",
   "execution_count": null,
   "id": "b27cab6c",
   "metadata": {},
   "outputs": [],
   "source": [
    "for e in embeddings[\"embeddings\"][:3]:\n",
    "    print(\"\\nembedding shape\", e.shape)\n",
    "    print(\"embedding dimensions:\", e.shape[0] * e.shape[1])\n",
    "    for r in e[:2]:\n",
    "        print(r[:2], \"...\", r[-2:])\n"
   ]
  },
  {
   "cell_type": "markdown",
   "id": "660b9041",
   "metadata": {},
   "source": [
    "> #### These vectors are very big! (each one with ~130k dimensions - vs typical ~1-2k dimensions)"
   ]
  },
  {
   "cell_type": "code",
   "execution_count": null,
   "id": "ea255ee2",
   "metadata": {},
   "outputs": [],
   "source": [
    "query_embeddings = text_to_colpali([\n",
    "    \"multimodal embeddings\",\n",
    "], model, processor)\n",
    "\n",
    "for e in query_embeddings:\n",
    "    print(\"\\nembedding shape\", e.shape)\n",
    "    print(\"embedding dimensions:\", e.shape[0] * e.shape[1])\n",
    "    for r in e[:2]:\n",
    "        print(r[:2], \"...\", r[-2:])\n"
   ]
  },
  {
   "cell_type": "code",
   "execution_count": null,
   "id": "c6e1ad04",
   "metadata": {},
   "outputs": [],
   "source": [
    "query_embeddings = text_to_colpali([\n",
    "    \"a detailed explanation of how multi-modal models like ColPali works in vector retrieval\",\n",
    "], model, processor)\n",
    "\n",
    "for e in query_embeddings:\n",
    "    print(\"\\nembedding shape\", e.shape)\n",
    "    print(\"embedding dimensions:\", e.shape[0] * e.shape[1])\n",
    "    for r in e[:2]:\n",
    "        print(r[:2], \"...\", r[-2:])\n"
   ]
  },
  {
   "cell_type": "markdown",
   "id": "6caf2d06",
   "metadata": {},
   "source": [
    "> #### Even the text vectors are quite large"
   ]
  },
  {
   "cell_type": "markdown",
   "id": "09a377fb",
   "metadata": {},
   "source": [
    "### Solution: Use MUVERA"
   ]
  },
  {
   "cell_type": "code",
   "execution_count": null,
   "id": "fe74ad8d",
   "metadata": {},
   "outputs": [],
   "source": [
    "muvera_img_paths = [\n",
    "    \"assets/muvera_algo1.png\",\n",
    "    \"assets/muvera_algo3.png\",\n",
    "]\n",
    "\n",
    "show_local_imgs(muvera_img_paths)"
   ]
  },
  {
   "cell_type": "code",
   "execution_count": null,
   "id": "aecfbf8a",
   "metadata": {},
   "outputs": [],
   "source": [
    "muvera_img_paths = [\n",
    "    \"assets/muvera_test_heap_profile.png\",\n",
    "    \"assets/muvera_test_import_time.png\",\n",
    "]\n",
    "\n",
    "show_local_imgs(muvera_img_paths)"
   ]
  },
  {
   "cell_type": "code",
   "execution_count": null,
   "id": "843c833b",
   "metadata": {},
   "outputs": [],
   "source": [
    "muvera_img_paths = [\n",
    "    \"assets/muvera_test_query1.png\",\n",
    "    \"assets/muvera_test_query2.png\",\n",
    "]\n",
    "\n",
    "show_local_imgs(muvera_img_paths)"
   ]
  },
  {
   "cell_type": "code",
   "execution_count": null,
   "id": "2d559f0f",
   "metadata": {},
   "outputs": [],
   "source": [
    "from weaviate.classes.config import Configure, Property, DataType, Tokenization\n",
    "\n",
    "collection_name = \"TempCollection\"\n",
    "\n",
    "client.collections.delete(collection_name)\n",
    "\n",
    "client.collections.create(\n",
    "    collection_name,\n",
    "    properties=[\n",
    "        Property(name=\"text\", data_type=DataType.TEXT),\n",
    "        Property(name=\"image\", data_type=DataType.BLOB),\n",
    "        Property(name=\"filepath\", data_type=DataType.TEXT, tokenization=Tokenization.FIELD),\n",
    "    ],\n",
    "    vectorizer_config=[\n",
    "        Configure.NamedVectors.none(\n",
    "            name=\"colpali\",  # colpali_v1_3 vector\n",
    "            vector_index_config=Configure.VectorIndex.hnsw(\n",
    "                multi_vector=Configure.VectorIndex.MultiVector.multi_vector(\n",
    "                    # 💡 Enable MUVERA encoding ⬇️\n",
    "                    encoding=Configure.VectorIndex.MultiVector.Encoding.muvera()\n",
    "                )\n",
    "            )\n",
    "        ),\n",
    "    ],\n",
    "    replication_config=Configure.replication(factor=3)\n",
    ")"
   ]
  },
  {
   "cell_type": "markdown",
   "id": "bf4fc035",
   "metadata": {},
   "source": [
    "## Vectorizer changes"
   ]
  },
  {
   "cell_type": "code",
   "execution_count": null,
   "id": "d81b769a",
   "metadata": {},
   "outputs": [],
   "source": [
    "from weaviate.classes.config import Configure, Property, DataType\n",
    "\n",
    "collection_name = \"DemoVecChanges\"\n",
    "\n",
    "client.collections.delete(collection_name)\n",
    "\n",
    "client.collections.create(\n",
    "    collection_name,\n",
    "    properties=[\n",
    "        Property(name=\"title\", data_type=DataType.TEXT),\n",
    "        Property(name=\"body\", data_type=DataType.TEXT),\n",
    "    ],\n",
    "    vectorizer_config=[\n",
    "        Configure.NamedVectors.text2vec_cohere(\n",
    "            name=\"default\",\n",
    "            source_properties=[\"title\", \"body\"],\n",
    "        ),\n",
    "        Configure.NamedVectors.text2vec_cohere(\n",
    "            name=\"new_title\",\n",
    "            source_properties=[\"title\"],\n",
    "        )\n",
    "    ],\n",
    "    # vectorizer_config=Configure.Vectorizer.text2vec_cohere(),\n",
    ")"
   ]
  },
  {
   "cell_type": "code",
   "execution_count": null,
   "id": "00cd610c",
   "metadata": {},
   "outputs": [],
   "source": [
    "c = client.collections.get(collection_name)\n",
    "\n",
    "cc = c.config.get().vector_config.keys()\n",
    "\n",
    "print(cc)"
   ]
  },
  {
   "cell_type": "code",
   "execution_count": null,
   "id": "d97eadb7",
   "metadata": {},
   "outputs": [],
   "source": [
    "c.config.add_vector(\n",
    "    vector_config=Configure.NamedVectors.text2vec_cohere(\n",
    "        name=\"body_only\",\n",
    "        source_properties=[\"body\"],\n",
    "    )\n",
    ")"
   ]
  },
  {
   "cell_type": "code",
   "execution_count": null,
   "id": "d4793eaa",
   "metadata": {},
   "outputs": [],
   "source": [
    "c = client.collections.get(collection_name)\n",
    "\n",
    "cc = c.config.get().vector_config.keys()\n",
    "\n",
    "print(cc)"
   ]
  },
  {
   "cell_type": "code",
   "execution_count": null,
   "id": "a7952df1",
   "metadata": {},
   "outputs": [],
   "source": [
    "c = client.collections.get(collection_name)\n",
    "\n",
    "c.data.insert_many(objects)"
   ]
  },
  {
   "cell_type": "code",
   "execution_count": null,
   "id": "d139a224",
   "metadata": {},
   "outputs": [],
   "source": [
    "r = c.query.fetch_objects(limit=1, include_vector=True)\n",
    "\n",
    "for k, v in r.objects[0].vector.items():\n",
    "    print(k)\n",
    "    print(v[:3])"
   ]
  },
  {
   "cell_type": "markdown",
   "id": "17299ec7",
   "metadata": {},
   "source": [
    "### The order matters"
   ]
  },
  {
   "cell_type": "code",
   "execution_count": null,
   "id": "54276184",
   "metadata": {},
   "outputs": [],
   "source": [
    "from weaviate.classes.config import Configure, Property, DataType\n",
    "\n",
    "collection_name = \"TempCollection\"\n",
    "\n",
    "client.collections.delete(collection_name)\n",
    "\n",
    "client.collections.create(\n",
    "    collection_name,\n",
    "    properties=[\n",
    "        Property(name=\"title\", data_type=DataType.TEXT),\n",
    "        Property(name=\"body\", data_type=DataType.TEXT),\n",
    "    ],\n",
    "    vectorizer_config=[\n",
    "        Configure.NamedVectors.text2vec_cohere(\n",
    "            name=\"default\",\n",
    "            source_properties=[\"title\", \"body\"],\n",
    "        ),\n",
    "        Configure.NamedVectors.text2vec_cohere(\n",
    "            name=\"new_title\",\n",
    "            source_properties=[\"title\"],\n",
    "        )\n",
    "    ],\n",
    ")"
   ]
  },
  {
   "cell_type": "code",
   "execution_count": null,
   "id": "b048cdfa",
   "metadata": {},
   "outputs": [],
   "source": [
    "c = client.collections.get(collection_name)\n",
    "\n",
    "c.data.insert_many(objects)"
   ]
  },
  {
   "cell_type": "code",
   "execution_count": null,
   "id": "ca532510",
   "metadata": {},
   "outputs": [],
   "source": [
    "c.config.add_vector(\n",
    "    vector_config=Configure.NamedVectors.text2vec_cohere(\n",
    "        name=\"body_only\",\n",
    "        source_properties=[\"body\"],\n",
    "    )\n",
    ")"
   ]
  },
  {
   "cell_type": "code",
   "execution_count": null,
   "id": "68ca99e9",
   "metadata": {},
   "outputs": [],
   "source": [
    "r = c.query.fetch_objects(limit=1, include_vector=True)\n",
    "\n",
    "for k, v in r.objects[0].vector.items():\n",
    "    print(k)\n",
    "    print(v[:3])"
   ]
  },
  {
   "cell_type": "markdown",
   "id": "7ed71689",
   "metadata": {},
   "source": [
    "## Move shards"
   ]
  },
  {
   "cell_type": "markdown",
   "id": "67787099",
   "metadata": {},
   "source": [
    "Pre-load some data:"
   ]
  },
  {
   "cell_type": "code",
   "execution_count": null,
   "id": "4f5451c8",
   "metadata": {},
   "outputs": [],
   "source": [
    "from weaviate.classes.config import Configure, Property, DataType\n",
    "\n",
    "collection_name = \"TempCollection\"\n",
    "\n",
    "client.collections.delete(collection_name)\n",
    "\n",
    "client.collections.create(\n",
    "    collection_name,\n",
    "    properties=[\n",
    "        Property(name=\"title\", data_type=DataType.TEXT),\n",
    "        Property(name=\"body\", data_type=DataType.TEXT),\n",
    "    ],\n",
    "    vectorizer_config=[\n",
    "        Configure.NamedVectors.text2vec_cohere(\n",
    "            name=\"default\",\n",
    "            source_properties=[\"title\", \"body\"],\n",
    "        ),\n",
    "    ],\n",
    "    replication_config=Configure.replication(factor=2),  # Note - this just a demo - do NOT use a RF of 2 in production - use 3 or above odd number\n",
    "    sharding_config=Configure.sharding(\n",
    "        desired_count=5  # To demonstrate sharding, we set it to an arbitrary high number (for our dataset size, anyway)\n",
    "    )\n",
    ")\n",
    "\n",
    "c = client.collections.get(collection_name)\n",
    "\n",
    "objects = [\n",
    "    {\"title\": \"Howl's Moving Castle\", \"body\": \"A fantasy novel by Diana Wynne Jones.\"},\n",
    "    {\"title\": \"The Hobbit\", \"body\": \"A fantasy novel by J.R.R. Tolkien.\"},\n",
    "    {\"title\": \"The Hitchhiker's Guide to the Galaxy\", \"body\": \"A science fiction novel by Douglas Adams.\"},\n",
    "    {\"title\": \"The Great Gatsby\", \"body\": \"A novel by F. Scott Fitzgerald.\"},\n",
    "    {\"title\": \"1984\", \"body\": \"A dystopian novel by George Orwell.\"},\n",
    "    {\"title\": \"To Kill a Mockingbird\", \"body\": \"A novel by Harper Lee.\"},\n",
    "    {\"title\": \"Pride and Prejudice\", \"body\": \"A novel by Jane Austen.\"},\n",
    "    {\"title\": \"The Catcher in the Rye\", \"body\": \"A novel by J.D. Salinger.\"},\n",
    "    {\"title\": \"The Lord of the Rings\", \"body\": \"A fantasy novel by J.R.R. Tolkien.\"},\n",
    "    {\"title\": \"Brave New World\", \"body\": \"A dystopian novel by Aldous Huxley.\"},\n",
    "    {\"title\": \"Fahrenheit 451\", \"body\": \"A dystopian novel by Ray Bradbury.\"},\n",
    "    {\"title\": \"The Picture of Dorian Gray\", \"body\": \"A novel by Oscar Wilde.\"},\n",
    "]\n",
    "\n",
    "c.data.insert_many(objects)\n",
    "\n",
    "import time\n",
    "\n",
    "start_time = time.time()\n",
    "print(\"Waiting for object count to update...\")\n",
    "\n",
    "while True:\n",
    "    n = client.cluster.nodes(collection=collection_name, output=\"verbose\")[0]\n",
    "    s = n.shards[0]\n",
    "    if s.object_count != 0:\n",
    "        print(f\"On node {n.name} and shard {s.name} - obj count: {s.object_count}\")\n",
    "        break\n",
    "    time.sleep(10)\n",
    "    elapsed_time = time.time() - start_time\n",
    "    print(f\"Elapsed time: {elapsed_time:.1f}s\")\n",
    "\n",
    "finish_time = time.time()\n",
    "print(f\"Time taken for obj count to update: {finish_time - start_time} seconds\")"
   ]
  },
  {
   "cell_type": "code",
   "execution_count": null,
   "id": "bd07c63f",
   "metadata": {},
   "outputs": [],
   "source": [
    "len(c)"
   ]
  },
  {
   "cell_type": "code",
   "execution_count": null,
   "id": "fd5e85b2",
   "metadata": {},
   "outputs": [],
   "source": [
    "from IPython.display import Image, display\n",
    "\n",
    "img_w = 600\n",
    "display(Image('./assets/shards-1.png', width=img_w))"
   ]
  },
  {
   "cell_type": "code",
   "execution_count": null,
   "id": "83a62a35",
   "metadata": {},
   "outputs": [],
   "source": [
    "display(Image('./assets/shards-2.png', width=img_w))"
   ]
  },
  {
   "cell_type": "code",
   "execution_count": null,
   "id": "a6a4a824",
   "metadata": {},
   "outputs": [],
   "source": [
    "display(Image('./assets/shards-3.png', width=img_w))"
   ]
  },
  {
   "cell_type": "code",
   "execution_count": null,
   "id": "550d8388",
   "metadata": {},
   "outputs": [],
   "source": [
    "display(Image('./assets/shards-4.png', width=img_w))"
   ]
  },
  {
   "cell_type": "code",
   "execution_count": null,
   "id": "45a28f64",
   "metadata": {},
   "outputs": [],
   "source": [
    "nodes_response = client.cluster.nodes(collection=collection_name, output=\"verbose\")\n",
    "\n",
    "for n in nodes_response:\n",
    "    print(f\"\\nNode {n.name} has {len(n.shards)} shards\")\n",
    "    for s in n.shards:\n",
    "        print(f\"Shard {s.name} has {s.object_count} objects from {collection_name}\")"
   ]
  },
  {
   "cell_type": "code",
   "execution_count": null,
   "id": "77867f57",
   "metadata": {},
   "outputs": [],
   "source": [
    "n = nodes_response[0]\n",
    "candidate_shard = None\n",
    "for src_shard in n.shards:\n",
    "    node2_shards = [\n",
    "        n2_shard.name for n2_shard in nodes_response[1].shards\n",
    "    ]\n",
    "    if src_shard.name not in node2_shards:\n",
    "        candidate_shard = src_shard\n",
    "        break\n",
    "\n",
    "print(f\"Candidate shard to move: {candidate_shard.name}\")\n",
    "\n",
    "SHARD_ID = candidate_shard.name"
   ]
  },
  {
   "cell_type": "code",
   "execution_count": null,
   "id": "c39c7311",
   "metadata": {},
   "outputs": [],
   "source": [
    "import requests\n",
    "import json\n",
    "\n",
    "# Shard move parameters\n",
    "SOURCE_NODE = \"node1\"\n",
    "DESTINATION_NODE = \"node2\"\n",
    "\n",
    "# Create the request payload\n",
    "payload = {\n",
    "    \"sourceNodeName\": \"node1\",\n",
    "    \"destinationNodeName\": DESTINATION_NODE,\n",
    "    \"collectionId\": collection_name,\n",
    "    \"shardId\": SHARD_ID,\n",
    "    \"transferType\": \"MOVE\"  # Use \"MOVE\" to relocate the shard, or \"COPY\" to replicate it\n",
    "}\n",
    "\n",
    "# Set up the headers\n",
    "headers = {\n",
    "    \"Content-Type\": \"application/json\"\n",
    "}\n",
    "\n",
    "# Make the API request\n",
    "response = requests.post(\n",
    "    f\"http://localhost:8080/v1/replication/replicate\",\n",
    "    headers=headers,\n",
    "    data=json.dumps(payload)\n",
    ")\n",
    "\n",
    "operation_id = response.json().get(\"id\")\n",
    "\n",
    "# Check for the status of the operation\n",
    "response = requests.get(\n",
    "    f\"http://localhost:8080/v1/replication/replicate/{operation_id}\",\n",
    "    headers=headers,\n",
    ")\n",
    "\n",
    "print(response.json())\n",
    "print(\"Shard move operation status:\")\n",
    "print(f'Status: {response.json()[\"status\"][\"state\"]}')"
   ]
  },
  {
   "cell_type": "code",
   "execution_count": null,
   "id": "202fcf7e",
   "metadata": {},
   "outputs": [],
   "source": [
    "display(Image('./assets/shards-5.png', width=img_w))"
   ]
  },
  {
   "cell_type": "markdown",
   "id": "db51e266",
   "metadata": {},
   "source": [
    "Check the status to see if it's finished:"
   ]
  },
  {
   "cell_type": "code",
   "execution_count": null,
   "id": "e17b439f",
   "metadata": {},
   "outputs": [],
   "source": [
    "# Check for the status of the operation\n",
    "response = requests.get(\n",
    "    f\"http://localhost:8080/v1/replication/replicate/{operation_id}\",\n",
    "    headers=headers,\n",
    ")\n",
    "\n",
    "print(response.json())\n",
    "print(\"Shard move operation status:\")\n",
    "print(f'Status: {response.json()[\"status\"][\"state\"]}')"
   ]
  },
  {
   "cell_type": "code",
   "execution_count": null,
   "id": "ce07bb9b",
   "metadata": {},
   "outputs": [],
   "source": [
    "for n in client.cluster.nodes(collection=collection_name, output=\"verbose\"):\n",
    "    print(f\"\\nNode {n.name} has {len(n.shards)} shards\")\n",
    "    for s in n.shards:\n",
    "        print(f\"Shard {s.name} has {s.object_count} objects from {collection_name}\")"
   ]
  }
 ],
 "metadata": {
  "kernelspec": {
   "display_name": ".venv",
   "language": "python",
   "name": "python3"
  },
  "language_info": {
   "codemirror_mode": {
    "name": "ipython",
    "version": 3
   },
   "file_extension": ".py",
   "mimetype": "text/x-python",
   "name": "python",
   "nbconvert_exporter": "python",
   "pygments_lexer": "ipython3",
   "version": "3.12.4"
  }
 },
 "nbformat": 4,
 "nbformat_minor": 5
}
