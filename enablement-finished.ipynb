{
 "cells": [
  {
   "cell_type": "markdown",
   "id": "b62153b3",
   "metadata": {},
   "source": [
    "## Weaviate 1.31 Enablement session\n",
    "\n",
    "### Key features\n",
    "\n",
    "- Shard movement between nodes\n",
    "- MUVERA encoding algorithm for multi-vector embeddings\n",
    "- Vectorizer changes\n",
    "- HNSW snapshotting"
   ]
  },
  {
   "cell_type": "markdown",
   "id": "416fe230",
   "metadata": {},
   "source": [
    "### Connect to Weaviate"
   ]
  },
  {
   "cell_type": "code",
   "execution_count": 1,
   "id": "669d5ff1",
   "metadata": {},
   "outputs": [
    {
     "data": {
      "text/plain": [
       "True"
      ]
     },
     "execution_count": 1,
     "metadata": {},
     "output_type": "execute_result"
    }
   ],
   "source": [
    "import dotenv\n",
    "\n",
    "dotenv.load_dotenv(verbose=True)"
   ]
  },
  {
   "cell_type": "code",
   "execution_count": 2,
   "id": "196c0071",
   "metadata": {},
   "outputs": [],
   "source": [
    "import weaviate\n",
    "import os\n",
    "\n",
    "client = weaviate.connect_to_local(\n",
    "    headers={\n",
    "        \"X-Cohere-Api-Key\": os.getenv(\"COHERE_API_KEY\"),\n",
    "        \"X-JinaAI-Api-Key\": os.getenv(\"JINAAI_API_KEY\")\n",
    "    }\n",
    ")"
   ]
  },
  {
   "cell_type": "code",
   "execution_count": 3,
   "id": "38a32793",
   "metadata": {},
   "outputs": [
    {
     "data": {
      "text/plain": [
       "'1.31.0-rc.0'"
      ]
     },
     "execution_count": 3,
     "metadata": {},
     "output_type": "execute_result"
    }
   ],
   "source": [
    "client.get_meta()[\"version\"]"
   ]
  },
  {
   "cell_type": "markdown",
   "id": "04e70217",
   "metadata": {},
   "source": [
    "Check the cluster setup:"
   ]
  },
  {
   "cell_type": "code",
   "execution_count": 4,
   "id": "2464bed5",
   "metadata": {},
   "outputs": [
    {
     "data": {
      "text/plain": [
       "[Node(git_hash='a6ede0c', name='node1', shards=None, stats=None, status='HEALTHY', version='1.31.0-rc.0'),\n",
       " Node(git_hash='a6ede0c', name='node2', shards=None, stats=None, status='HEALTHY', version='1.31.0-rc.0'),\n",
       " Node(git_hash='a6ede0c', name='node3', shards=None, stats=None, status='HEALTHY', version='1.31.0-rc.0')]"
      ]
     },
     "execution_count": 4,
     "metadata": {},
     "output_type": "execute_result"
    }
   ],
   "source": [
    "client.cluster.nodes()"
   ]
  },
  {
   "cell_type": "markdown",
   "id": "d8e002d8",
   "metadata": {},
   "source": [
    "Pre-load some data:"
   ]
  },
  {
   "cell_type": "code",
   "execution_count": null,
   "id": "92568425",
   "metadata": {},
   "outputs": [],
   "source": [
    "from weaviate.classes.config import Configure, Property, DataType\n",
    "\n",
    "collection_name = \"TempCollection\"\n",
    "\n",
    "client.collections.delete(collection_name)\n",
    "\n",
    "client.collections.create(\n",
    "    collection_name,\n",
    "    properties=[\n",
    "        Property(name=\"title\", data_type=DataType.TEXT),\n",
    "        Property(name=\"body\", data_type=DataType.TEXT),\n",
    "    ],\n",
    "    vectorizer_config=[\n",
    "        Configure.NamedVectors.text2vec_cohere(\n",
    "            name=\"default\",\n",
    "            source_properties=[\"title\", \"body\"],\n",
    "        ),\n",
    "    ],\n",
    "    replication_config=Configure.replication(factor=2),  # Note - this just a demo - do NOT use a RF of 2 in production - use 3 or above odd number\n",
    "    sharding_config=Configure.sharding(\n",
    "        desired_count=5  # To demonstrate sharding, we set it to an arbitrary high number (for our dataset size, anyway)\n",
    "    )\n",
    ")\n",
    "\n",
    "c = client.collections.get(collection_name)\n",
    "\n",
    "objects = [\n",
    "    {\"title\": \"Howl's Moving Castle\", \"body\": \"A fantasy novel by Diana Wynne Jones.\"},\n",
    "    {\"title\": \"The Hobbit\", \"body\": \"A fantasy novel by J.R.R. Tolkien.\"},\n",
    "    {\"title\": \"The Hitchhiker's Guide to the Galaxy\", \"body\": \"A science fiction novel by Douglas Adams.\"},\n",
    "    {\"title\": \"The Great Gatsby\", \"body\": \"A novel by F. Scott Fitzgerald.\"},\n",
    "    {\"title\": \"1984\", \"body\": \"A dystopian novel by George Orwell.\"},\n",
    "    {\"title\": \"To Kill a Mockingbird\", \"body\": \"A novel by Harper Lee.\"},\n",
    "    {\"title\": \"Pride and Prejudice\", \"body\": \"A novel by Jane Austen.\"},\n",
    "    {\"title\": \"The Catcher in the Rye\", \"body\": \"A novel by J.D. Salinger.\"},\n",
    "    {\"title\": \"The Lord of the Rings\", \"body\": \"A fantasy novel by J.R.R. Tolkien.\"},\n",
    "    {\"title\": \"Brave New World\", \"body\": \"A dystopian novel by Aldous Huxley.\"},\n",
    "    {\"title\": \"Fahrenheit 451\", \"body\": \"A dystopian novel by Ray Bradbury.\"},\n",
    "    {\"title\": \"The Picture of Dorian Gray\", \"body\": \"A novel by Oscar Wilde.\"},\n",
    "]\n",
    "\n",
    "c.data.insert_many(objects)\n",
    "\n",
    "import time\n",
    "\n",
    "start_time = time.time()\n",
    "print(\"Waiting for object count to update...\")\n",
    "\n",
    "while True:\n",
    "    n = client.cluster.nodes(collection=collection_name, output=\"verbose\")[0]\n",
    "    s = n.shards[0]\n",
    "    if s.object_count != 0:\n",
    "        print(f\"On node {n.name} and shard {s.name} - obj count: {s.object_count}\")\n",
    "        break\n",
    "    time.sleep(10)\n",
    "    elapsed_time = time.time() - start_time\n",
    "    print(f\"Elapsed time: {elapsed_time:.1f}s\")\n",
    "\n",
    "finish_time = time.time()\n",
    "print(f\"Time taken for obj count to update: {finish_time - start_time} seconds\")"
   ]
  },
  {
   "cell_type": "code",
   "execution_count": null,
   "id": "26902787",
   "metadata": {},
   "outputs": [],
   "source": [
    "len(c)"
   ]
  },
  {
   "cell_type": "markdown",
   "id": "f6e4de80",
   "metadata": {},
   "source": [
    "## Move shards"
   ]
  },
  {
   "cell_type": "code",
   "execution_count": null,
   "id": "ddf0dd00",
   "metadata": {},
   "outputs": [],
   "source": [
    "from IPython.display import Image, display\n",
    "\n",
    "img_w = 600\n",
    "display(Image('./assets/shards-1.png', width=img_w))"
   ]
  },
  {
   "cell_type": "code",
   "execution_count": null,
   "id": "e15cf31d",
   "metadata": {},
   "outputs": [],
   "source": [
    "display(Image('./assets/shards-2.png', width=img_w))"
   ]
  },
  {
   "cell_type": "code",
   "execution_count": null,
   "id": "cb98da21",
   "metadata": {},
   "outputs": [],
   "source": [
    "display(Image('./assets/shards-3.png', width=img_w))"
   ]
  },
  {
   "cell_type": "code",
   "execution_count": null,
   "id": "bdae24fa",
   "metadata": {},
   "outputs": [],
   "source": [
    "display(Image('./assets/shards-4.png', width=img_w))"
   ]
  },
  {
   "cell_type": "code",
   "execution_count": null,
   "id": "57b92060",
   "metadata": {},
   "outputs": [],
   "source": [
    "nodes_response = client.cluster.nodes(collection=collection_name, output=\"verbose\")\n",
    "\n",
    "for n in nodes_response:\n",
    "    print(f\"\\nNode {n.name} has {len(n.shards)} shards\")\n",
    "    for s in n.shards:\n",
    "        print(f\"Shard {s.name} has {s.object_count} objects from {collection_name}\")"
   ]
  },
  {
   "cell_type": "code",
   "execution_count": null,
   "id": "f1c7e432",
   "metadata": {},
   "outputs": [],
   "source": [
    "n = nodes_response[0]\n",
    "candidate_shard = None\n",
    "for src_shard in n.shards:\n",
    "    node2_shards = [\n",
    "        n2_shard.name for n2_shard in nodes_response[1].shards\n",
    "    ]\n",
    "    if src_shard.name not in node2_shards:\n",
    "        candidate_shard = src_shard\n",
    "        break\n",
    "\n",
    "print(f\"Candidate shard to move: {candidate_shard.name}\")\n",
    "\n",
    "SHARD_ID = candidate_shard.name"
   ]
  },
  {
   "cell_type": "code",
   "execution_count": null,
   "id": "2ddff908",
   "metadata": {},
   "outputs": [],
   "source": [
    "import requests\n",
    "import json\n",
    "\n",
    "# Shard move parameters\n",
    "SOURCE_NODE = \"node1\"\n",
    "DESTINATION_NODE = \"node2\"\n",
    "\n",
    "# Create the request payload\n",
    "payload = {\n",
    "    \"sourceNodeName\": \"node1\",\n",
    "    \"destinationNodeName\": DESTINATION_NODE,\n",
    "    \"collectionId\": collection_name,\n",
    "    \"shardId\": SHARD_ID,\n",
    "    \"transferType\": \"MOVE\"  # Use \"MOVE\" to relocate the shard, or \"COPY\" to replicate it\n",
    "}\n",
    "\n",
    "# Set up the headers\n",
    "headers = {\n",
    "    \"Content-Type\": \"application/json\"\n",
    "}\n",
    "\n",
    "# Make the API request\n",
    "response = requests.post(\n",
    "    f\"http://localhost:8080/v1/replication/replicate\",\n",
    "    headers=headers,\n",
    "    data=json.dumps(payload)\n",
    ")\n",
    "\n",
    "operation_id = response.json().get(\"id\")\n",
    "\n",
    "# Check for the status of the operation\n",
    "response = requests.get(\n",
    "    f\"http://localhost:8080/v1/replication/replicate/{operation_id}\",\n",
    "    headers=headers,\n",
    ")\n",
    "\n",
    "print(response.json())\n",
    "print(\"Shard move operation status:\")\n",
    "print(f'Status: {response.json()[\"status\"][\"state\"]}')"
   ]
  },
  {
   "cell_type": "code",
   "execution_count": null,
   "id": "ef33ebaf",
   "metadata": {},
   "outputs": [],
   "source": [
    "display(Image('./assets/shards-5.png', width=img_w))"
   ]
  },
  {
   "cell_type": "markdown",
   "id": "cee7a038",
   "metadata": {},
   "source": [
    "Check the status to see if it's finished:"
   ]
  },
  {
   "cell_type": "code",
   "execution_count": null,
   "id": "7f13e59d",
   "metadata": {},
   "outputs": [],
   "source": [
    "# Check for the status of the operation\n",
    "response = requests.get(\n",
    "    f\"http://localhost:8080/v1/replication/replicate/{operation_id}\",\n",
    "    headers=headers,\n",
    ")\n",
    "\n",
    "print(response.json())\n",
    "print(\"Shard move operation status:\")\n",
    "print(f'Status: {response.json()[\"status\"][\"state\"]}')"
   ]
  },
  {
   "cell_type": "code",
   "execution_count": null,
   "id": "89906864",
   "metadata": {},
   "outputs": [],
   "source": [
    "for n in client.cluster.nodes(collection=collection_name, output=\"verbose\"):\n",
    "    print(f\"\\nNode {n.name} has {len(n.shards)} shards\")\n",
    "    for s in n.shards:\n",
    "        print(f\"Shard {s.name} has {s.object_count} objects from {collection_name}\")"
   ]
  },
  {
   "cell_type": "markdown",
   "id": "9a1c9459",
   "metadata": {},
   "source": [
    "## MUVERA"
   ]
  },
  {
   "cell_type": "markdown",
   "id": "43c2ccfb",
   "metadata": {},
   "source": [
    "Note - check that this is the branch being used:\n",
    "\n",
    "`uv pip install git+https://github.com/weaviate/weaviate-python-client.git@dev/1.31`"
   ]
  },
  {
   "cell_type": "code",
   "execution_count": null,
   "id": "d9a2b862",
   "metadata": {},
   "outputs": [],
   "source": [
    "from IPython.display import Image, display\n",
    "\n",
    "img_w = 800\n",
    "display(Image('./assets/mv_explained1.png', width=img_w))"
   ]
  },
  {
   "cell_type": "code",
   "execution_count": null,
   "id": "fabc4c33",
   "metadata": {},
   "outputs": [],
   "source": [
    "from IPython.display import Image, display\n",
    "\n",
    "img_w = 800\n",
    "display(Image('./assets/mv_explained2.png', width=img_w))"
   ]
  },
  {
   "cell_type": "code",
   "execution_count": null,
   "id": "044b1e8b",
   "metadata": {},
   "outputs": [],
   "source": [
    "from weaviate.classes.config import Configure, Property, DataType\n",
    "\n",
    "collection_name = \"TempCollection\"\n",
    "\n",
    "client.collections.delete(collection_name)\n",
    "\n",
    "client.collections.create(\n",
    "    collection_name,\n",
    "    properties=[\n",
    "        Property(name=\"title\", data_type=DataType.TEXT),\n",
    "        Property(name=\"body\", data_type=DataType.TEXT),\n",
    "    ],\n",
    "    vectorizer_config=[\n",
    "        Configure.NamedVectors.text2colbert_jinaai(\n",
    "            name=\"custom_mv\",\n",
    "            source_properties=[\"title\", \"body\"],\n",
    "            vector_index_config=Configure.VectorIndex.hnsw(\n",
    "                multi_vector=Configure.VectorIndex.MultiVector.multi_vector()\n",
    "            )\n",
    "        ),\n",
    "    ],\n",
    "    replication_config=Configure.replication(factor=3)\n",
    ")"
   ]
  },
  {
   "cell_type": "code",
   "execution_count": null,
   "id": "5a0fb2f9",
   "metadata": {},
   "outputs": [],
   "source": [
    "objects = [\n",
    "    {\"title\": \"Howl's Moving Castle\", \"body\": \"A fantasy novel by Diana Wynne Jones.\"},\n",
    "    {\"title\": \"The Hobbit\", \"body\": \"A fantasy novel by J.R.R. Tolkien.\"},\n",
    "    {\"title\": \"The Hitchhiker's Guide to the Galaxy\", \"body\": \"A science fiction novel by Douglas Adams.\"},\n",
    "]"
   ]
  },
  {
   "cell_type": "code",
   "execution_count": null,
   "id": "5b46eb4e",
   "metadata": {},
   "outputs": [],
   "source": [
    "c = client.collections.get(collection_name)\n",
    "\n",
    "with c.batch.fixed_size(200) as batch:\n",
    "    for i, obj in enumerate(objects):\n",
    "        batch.add_object(\n",
    "            properties=obj,\n",
    "        )"
   ]
  },
  {
   "cell_type": "code",
   "execution_count": null,
   "id": "cdda1d3a",
   "metadata": {},
   "outputs": [],
   "source": [
    "r = c.query.near_text(\n",
    "    query=\"a bunch of friends travelling around unseen places\"\n",
    ")\n",
    "\n",
    "for o in r.objects:\n",
    "    print(o.properties)"
   ]
  },
  {
   "cell_type": "markdown",
   "id": "bf4fc035",
   "metadata": {},
   "source": [
    "## Vectorizer changes"
   ]
  },
  {
   "cell_type": "markdown",
   "id": "340e3d51",
   "metadata": {},
   "source": [
    "Note - check that this is the branch being used:\n",
    "\n",
    "`uv pip install git+https://github.com/weaviate/weaviate-python-client.git@1.31/support-adding-vectors`"
   ]
  },
  {
   "cell_type": "code",
   "execution_count": 5,
   "id": "d81b769a",
   "metadata": {},
   "outputs": [
    {
     "name": "stderr",
     "output_type": "stream",
     "text": [
      "/workspaces/weaviate_enablement_1_31/.venv/lib/python3.11/site-packages/weaviate/collections/classes/config.py:1950: PydanticDeprecatedSince211: Accessing the 'model_fields' attribute on the instance is deprecated. Instead, you should access this attribute from the model class. Deprecated in Pydantic V2.11 to be removed in V3.0.\n",
      "  for cls_field in self.model_fields:\n"
     ]
    },
    {
     "data": {
      "text/plain": [
       "<weaviate.collections.collection.sync.Collection at 0xffff8ca443d0>"
      ]
     },
     "execution_count": 5,
     "metadata": {},
     "output_type": "execute_result"
    }
   ],
   "source": [
    "from weaviate.classes.config import Configure, Property, DataType\n",
    "\n",
    "collection_name = \"TempCollection\"\n",
    "\n",
    "client.collections.delete(collection_name)\n",
    "\n",
    "client.collections.create(\n",
    "    collection_name,\n",
    "    properties=[\n",
    "        Property(name=\"title\", data_type=DataType.TEXT),\n",
    "        Property(name=\"body\", data_type=DataType.TEXT),\n",
    "    ],\n",
    "    vectorizer_config=[\n",
    "        Configure.NamedVectors.text2vec_cohere(\n",
    "            name=\"default\",\n",
    "            source_properties=[\"title\", \"body\"],\n",
    "        ),\n",
    "        Configure.NamedVectors.text2vec_cohere(\n",
    "            name=\"new_title\",\n",
    "            source_properties=[\"title\"],\n",
    "        )\n",
    "    ],\n",
    "    # vectorizer_config=Configure.Vectorizer.text2vec_cohere(),\n",
    ")"
   ]
  },
  {
   "cell_type": "code",
   "execution_count": 6,
   "id": "00cd610c",
   "metadata": {},
   "outputs": [
    {
     "name": "stdout",
     "output_type": "stream",
     "text": [
      "dict_keys(['default', 'new_title'])\n"
     ]
    }
   ],
   "source": [
    "c = client.collections.get(collection_name)\n",
    "\n",
    "cc = c.config.get().vector_config.keys()\n",
    "\n",
    "print(cc)"
   ]
  },
  {
   "cell_type": "code",
   "execution_count": 7,
   "id": "d97eadb7",
   "metadata": {},
   "outputs": [],
   "source": [
    "c.config.add_vector(\n",
    "    vector_config=Configure.NamedVectors.text2vec_cohere(\n",
    "        name=\"body_only\",\n",
    "        source_properties=[\"body\"],\n",
    "    )\n",
    ")"
   ]
  },
  {
   "cell_type": "code",
   "execution_count": 8,
   "id": "d4793eaa",
   "metadata": {},
   "outputs": [
    {
     "name": "stdout",
     "output_type": "stream",
     "text": [
      "dict_keys(['body_only', 'default', 'new_title'])\n"
     ]
    }
   ],
   "source": [
    "c = client.collections.get(collection_name)\n",
    "\n",
    "cc = c.config.get().vector_config.keys()\n",
    "\n",
    "print(cc)"
   ]
  },
  {
   "cell_type": "code",
   "execution_count": 24,
   "id": "a7952df1",
   "metadata": {},
   "outputs": [
    {
     "data": {
      "text/plain": [
       "BatchObjectReturn(_all_responses=[UUID('35822527-fc71-4a4c-a479-63314737188d'), UUID('d9ac0256-9501-4b24-858f-08aff9e4cde0'), UUID('0fbc5184-0939-4905-9459-410e2b10005d'), UUID('b336ead0-966d-4874-92df-e6a8104922f4'), UUID('98803a7b-b18f-44dd-b575-d241d520b2bb'), UUID('b12411ec-8177-4d9c-b231-10d8e99359b4'), UUID('13e0bc53-046c-4a7c-955c-d2c4cd5e38db'), UUID('7d6aa81b-7bcb-49ba-8b32-4fa05393f873'), UUID('ae75c2f6-91da-44ff-b15a-4946f67f1613'), UUID('a9673f60-516e-416c-856e-24607546a1ea'), UUID('9e7ce9e1-902f-485c-8704-0ad64805cd0e'), UUID('b51367ee-b66f-4471-b181-af741ecfea2e')], elapsed_seconds=0.3197033405303955, errors={}, uuids={0: UUID('35822527-fc71-4a4c-a479-63314737188d'), 1: UUID('d9ac0256-9501-4b24-858f-08aff9e4cde0'), 2: UUID('0fbc5184-0939-4905-9459-410e2b10005d'), 3: UUID('b336ead0-966d-4874-92df-e6a8104922f4'), 4: UUID('98803a7b-b18f-44dd-b575-d241d520b2bb'), 5: UUID('b12411ec-8177-4d9c-b231-10d8e99359b4'), 6: UUID('13e0bc53-046c-4a7c-955c-d2c4cd5e38db'), 7: UUID('7d6aa81b-7bcb-49ba-8b32-4fa05393f873'), 8: UUID('ae75c2f6-91da-44ff-b15a-4946f67f1613'), 9: UUID('a9673f60-516e-416c-856e-24607546a1ea'), 10: UUID('9e7ce9e1-902f-485c-8704-0ad64805cd0e'), 11: UUID('b51367ee-b66f-4471-b181-af741ecfea2e')}, has_errors=False)"
      ]
     },
     "execution_count": 24,
     "metadata": {},
     "output_type": "execute_result"
    }
   ],
   "source": [
    "c = client.collections.get(collection_name)\n",
    "\n",
    "c.data.insert_many(objects)"
   ]
  },
  {
   "cell_type": "code",
   "execution_count": 13,
   "id": "d139a224",
   "metadata": {},
   "outputs": [
    {
     "name": "stdout",
     "output_type": "stream",
     "text": [
      "default\n",
      "[-0.02838134765625, 0.0147247314453125, -0.0009617805480957031]\n",
      "new_title\n",
      "[0.00046539306640625, 0.0167388916015625, 0.0046539306640625]\n",
      "body_only\n",
      "[-0.034698486328125, 0.016387939453125, -0.00408172607421875]\n"
     ]
    }
   ],
   "source": [
    "r = c.query.fetch_objects(limit=1, include_vector=True)\n",
    "\n",
    "for k, v in r.objects[0].vector.items():\n",
    "    print(k)\n",
    "    print(v[:3])"
   ]
  },
  {
   "cell_type": "markdown",
   "id": "17299ec7",
   "metadata": {},
   "source": [
    "### The order matters"
   ]
  },
  {
   "cell_type": "code",
   "execution_count": 14,
   "id": "54276184",
   "metadata": {},
   "outputs": [
    {
     "name": "stderr",
     "output_type": "stream",
     "text": [
      "/workspaces/weaviate_enablement_1_31/.venv/lib/python3.11/site-packages/weaviate/collections/classes/config.py:1950: PydanticDeprecatedSince211: Accessing the 'model_fields' attribute on the instance is deprecated. Instead, you should access this attribute from the model class. Deprecated in Pydantic V2.11 to be removed in V3.0.\n",
      "  for cls_field in self.model_fields:\n"
     ]
    },
    {
     "data": {
      "text/plain": [
       "<weaviate.collections.collection.sync.Collection at 0xffff68d41d50>"
      ]
     },
     "execution_count": 14,
     "metadata": {},
     "output_type": "execute_result"
    }
   ],
   "source": [
    "from weaviate.classes.config import Configure, Property, DataType\n",
    "\n",
    "collection_name = \"TempCollection\"\n",
    "\n",
    "client.collections.delete(collection_name)\n",
    "\n",
    "client.collections.create(\n",
    "    collection_name,\n",
    "    properties=[\n",
    "        Property(name=\"title\", data_type=DataType.TEXT),\n",
    "        Property(name=\"body\", data_type=DataType.TEXT),\n",
    "    ],\n",
    "    vectorizer_config=[\n",
    "        Configure.NamedVectors.text2vec_cohere(\n",
    "            name=\"default\",\n",
    "            source_properties=[\"title\", \"body\"],\n",
    "        ),\n",
    "        Configure.NamedVectors.text2vec_cohere(\n",
    "            name=\"new_title\",\n",
    "            source_properties=[\"title\"],\n",
    "        )\n",
    "    ],\n",
    ")"
   ]
  },
  {
   "cell_type": "code",
   "execution_count": null,
   "id": "b048cdfa",
   "metadata": {},
   "outputs": [
    {
     "data": {
      "text/plain": [
       "BatchObjectReturn(_all_responses=[UUID('1fafb5b0-521b-4605-bcfd-f17872cae841'), UUID('ff23d516-9e44-411b-84cc-c506ef34befb'), UUID('e64523fb-c6b4-4d0a-b23b-ad39e0abcffe'), UUID('ab9bd7e9-abf3-4d9d-90fd-ed83072262ac'), UUID('b919b6d5-cdb9-4ade-b83b-d09c44bb0c04'), UUID('101447da-de68-4801-82e8-707b87976112'), UUID('c718489e-3b84-4d1c-a5cb-9d596ddf72b8'), UUID('2dad3af8-286a-4ddc-b5e7-98ac7e8ca5cd'), UUID('64ef1772-f089-4751-a519-7fec8feea325'), UUID('290b926f-9ecb-46c8-b00e-07750a73f748'), UUID('a70861ee-597f-40b7-8383-1246e5154425'), UUID('b391f3d6-c082-4f28-8e09-8a783421634a')], elapsed_seconds=0.18357324600219727, errors={}, uuids={0: UUID('1fafb5b0-521b-4605-bcfd-f17872cae841'), 1: UUID('ff23d516-9e44-411b-84cc-c506ef34befb'), 2: UUID('e64523fb-c6b4-4d0a-b23b-ad39e0abcffe'), 3: UUID('ab9bd7e9-abf3-4d9d-90fd-ed83072262ac'), 4: UUID('b919b6d5-cdb9-4ade-b83b-d09c44bb0c04'), 5: UUID('101447da-de68-4801-82e8-707b87976112'), 6: UUID('c718489e-3b84-4d1c-a5cb-9d596ddf72b8'), 7: UUID('2dad3af8-286a-4ddc-b5e7-98ac7e8ca5cd'), 8: UUID('64ef1772-f089-4751-a519-7fec8feea325'), 9: UUID('290b926f-9ecb-46c8-b00e-07750a73f748'), 10: UUID('a70861ee-597f-40b7-8383-1246e5154425'), 11: UUID('b391f3d6-c082-4f28-8e09-8a783421634a')}, has_errors=False)"
      ]
     },
     "execution_count": 15,
     "metadata": {},
     "output_type": "execute_result"
    }
   ],
   "source": [
    "c = client.collections.get(collection_name)\n",
    "\n",
    "c.data.insert_many(objects)"
   ]
  },
  {
   "cell_type": "code",
   "execution_count": 16,
   "id": "ca532510",
   "metadata": {},
   "outputs": [],
   "source": [
    "c.config.add_vector(\n",
    "    vector_config=Configure.NamedVectors.text2vec_cohere(\n",
    "        name=\"body_only\",\n",
    "        source_properties=[\"body\"],\n",
    "    )\n",
    ")"
   ]
  },
  {
   "cell_type": "code",
   "execution_count": 17,
   "id": "68ca99e9",
   "metadata": {},
   "outputs": [
    {
     "name": "stdout",
     "output_type": "stream",
     "text": [
      "default\n",
      "[-0.009490966796875, 0.0374755859375, -0.0396728515625]\n",
      "new_title\n",
      "[0.0052490234375, 0.035430908203125, 0.0004413127899169922]\n"
     ]
    }
   ],
   "source": [
    "r = c.query.fetch_objects(limit=1, include_vector=True)\n",
    "\n",
    "for k, v in r.objects[0].vector.items():\n",
    "    print(k)\n",
    "    print(v[:3])"
   ]
  }
 ],
 "metadata": {
  "kernelspec": {
   "display_name": ".venv",
   "language": "python",
   "name": "python3"
  },
  "language_info": {
   "codemirror_mode": {
    "name": "ipython",
    "version": 3
   },
   "file_extension": ".py",
   "mimetype": "text/x-python",
   "name": "python",
   "nbconvert_exporter": "python",
   "pygments_lexer": "ipython3",
   "version": "3.11.12"
  }
 },
 "nbformat": 4,
 "nbformat_minor": 5
}
